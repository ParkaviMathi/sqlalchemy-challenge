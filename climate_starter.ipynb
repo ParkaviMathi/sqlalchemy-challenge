{
 "cells": [
  {
   "cell_type": "code",
   "execution_count": 1,
   "metadata": {},
   "outputs": [],
   "source": [
    "%matplotlib inline\n",
    "from matplotlib import style\n",
    "style.use('fivethirtyeight')\n",
    "import matplotlib.pyplot as plt"
   ]
  },
  {
   "cell_type": "code",
   "execution_count": 2,
   "metadata": {},
   "outputs": [],
   "source": [
    "import numpy as np\n",
    "import pandas as pd\n",
    "import datetime as dt"
   ]
  },
  {
   "cell_type": "markdown",
   "metadata": {},
   "source": [
    "# Reflect Tables into SQLAlchemy ORM"
   ]
  },
  {
   "cell_type": "code",
   "execution_count": 3,
   "metadata": {},
   "outputs": [],
   "source": [
    "# Python SQL toolkit and Object Relational Mapper\n",
    "import sqlalchemy\n",
    "from sqlalchemy.ext.automap import automap_base\n",
    "from sqlalchemy.orm import Session\n",
    "from sqlalchemy import create_engine, func"
   ]
  },
  {
   "cell_type": "code",
   "execution_count": 4,
   "metadata": {},
   "outputs": [],
   "source": [
    "# create engine to hawaii.sqlite\n",
    "engine = create_engine(\"sqlite:///Resources/hawaii.sqlite\")"
   ]
  },
  {
   "cell_type": "code",
   "execution_count": 5,
   "metadata": {},
   "outputs": [],
   "source": [
    "# reflect an existing database into a new model\n",
    "Base = automap_base()\n",
    "\n",
    "# reflect the tables\n",
    "Base.prepare(engine, reflect=True)\n"
   ]
  },
  {
   "cell_type": "code",
   "execution_count": 6,
   "metadata": {},
   "outputs": [
    {
     "data": {
      "text/plain": [
       "['measurement', 'station']"
      ]
     },
     "execution_count": 6,
     "metadata": {},
     "output_type": "execute_result"
    }
   ],
   "source": [
    "# View all of the classes that automap found\n",
    "Base.classes.keys()"
   ]
  },
  {
   "cell_type": "code",
   "execution_count": 7,
   "metadata": {},
   "outputs": [],
   "source": [
    "# Save references to each table\n",
    "Station = Base.classes.station\n",
    "Measurement = Base.classes.measurement"
   ]
  },
  {
   "cell_type": "code",
   "execution_count": 8,
   "metadata": {},
   "outputs": [],
   "source": [
    "# Create our session (link) from Python to the DB\n",
    "session = Session(engine)"
   ]
  },
  {
   "cell_type": "markdown",
   "metadata": {},
   "source": [
    "# Exploratory Precipitation Analysis"
   ]
  },
  {
   "cell_type": "code",
   "execution_count": 9,
   "metadata": {},
   "outputs": [],
   "source": [
    "# Find the most recent date in the data set.\n",
    "maxDate = session.query(Measurement,func.max(Measurement.date)).all()\n"
   ]
  },
  {
   "cell_type": "code",
   "execution_count": 10,
   "metadata": {},
   "outputs": [
    {
     "data": {
      "image/png": "[encoded data removed]",
      "text/plain": [
       "<Figure size 432x288 with 1 Axes>"
      ]
     },
     "metadata": {},
     "output_type": "display_data"
    }
   ],
   "source": [
    "# Design a query to retrieve the last 12 months of precipitation data and plot the results. \n",
    "# Starting from the most recent data point in the database. \n",
    "maxDate_format = dt.date(2017, 8 ,23)\n",
    "# Calculate the date one year from the last date in data set.\n",
    "last_year = maxDate_format - dt.timedelta(days=365)\n",
    "\n",
    "# Perform a query to retrieve the data and precipitation scores\n",
    "precidata = [Measurement.date, Measurement.prcp]\n",
    "\n",
    "# Save the query results as a Pandas DataFrame and set the index to the date column\n",
    "preci_data = session.query(*precidata).\\\n",
    "    filter(Measurement.date <= maxDate_format).\\\n",
    "    filter(Measurement.date >= last_year).all()\n",
    "#preci_data\n",
    "preci_df = pd.DataFrame(preci_data, columns=['Date', 'Precipitation'])\n",
    "# Sort the dataframe by date\n",
    "preci_sorted = preci_df.sort_values(by='Date')\n",
    "preci_sorted\n",
    "# Use Pandas Plotting with Matplotlib to plot the data\n",
    "\n",
    "preci_sorted.plot(x='Date', y='Precipitation')\n",
    "plt.xlabel(\"Date\")\n",
    "plt.ylabel(\"mm\")\n",
    "plt.xticks(rotation=90)\n",
    "plt.show()\n"
   ]
  },
  {
   "cell_type": "code",
   "execution_count": 11,
   "metadata": {},
   "outputs": [
    {
     "data": {
      "text/html": [
       "<div>\n",
       "<style scoped>\n",
       "    .dataframe tbody tr th:only-of-type {\n",
       "        vertical-align: middle;\n",
       "    }\n",
       "\n",
       "    .dataframe tbody tr th {\n",
       "        vertical-align: top;\n",
       "    }\n",
       "\n",
       "    .dataframe thead th {\n",
       "        text-align: right;\n",
       "    }\n",
       "</style>\n",
       "<table border=\"1\" class=\"dataframe\">\n",
       "  <thead>\n",
       "    <tr style=\"text-align: right;\">\n",
       "      <th></th>\n",
       "      <th>Precipitation</th>\n",
       "    </tr>\n",
       "  </thead>\n",
       "  <tbody>\n",
       "    <tr>\n",
       "      <th>count</th>\n",
       "      <td>2021.000000</td>\n",
       "    </tr>\n",
       "    <tr>\n",
       "      <th>mean</th>\n",
       "      <td>4.505888</td>\n",
       "    </tr>\n",
       "    <tr>\n",
       "      <th>std</th>\n",
       "      <td>11.713487</td>\n",
       "    </tr>\n",
       "    <tr>\n",
       "      <th>min</th>\n",
       "      <td>0.000000</td>\n",
       "    </tr>\n",
       "    <tr>\n",
       "      <th>25%</th>\n",
       "      <td>0.000000</td>\n",
       "    </tr>\n",
       "    <tr>\n",
       "      <th>50%</th>\n",
       "      <td>0.500000</td>\n",
       "    </tr>\n",
       "    <tr>\n",
       "      <th>75%</th>\n",
       "      <td>3.300000</td>\n",
       "    </tr>\n",
       "    <tr>\n",
       "      <th>max</th>\n",
       "      <td>170.200000</td>\n",
       "    </tr>\n",
       "  </tbody>\n",
       "</table>\n",
       "</div>"
      ],
      "text/plain": [
       "       Precipitation\n",
       "count    2021.000000\n",
       "mean        4.505888\n",
       "std        11.713487\n",
       "min         0.000000\n",
       "25%         0.000000\n",
       "50%         0.500000\n",
       "75%         3.300000\n",
       "max       170.200000"
      ]
     },
     "execution_count": 11,
     "metadata": {},
     "output_type": "execute_result"
    }
   ],
   "source": [
    "# Use Pandas to calcualte the summary statistics for the precipitation data\n",
    "preci_sorted.describe()"
   ]
  },
  {
   "cell_type": "markdown",
   "metadata": {},
   "source": [
    "# Exploratory Station Analysis"
   ]
  },
  {
   "cell_type": "code",
   "execution_count": 12,
   "metadata": {},
   "outputs": [
    {
     "data": {
      "text/plain": [
       "9"
      ]
     },
     "execution_count": 12,
     "metadata": {},
     "output_type": "execute_result"
    }
   ],
   "source": [
    "# Design a query to calculate the total number stations in the dataset\n",
    "stations = session.query(Station).group_by(Station.station).count()\n",
    "stations"
   ]
  },
  {
   "cell_type": "code",
   "execution_count": 13,
   "metadata": {},
   "outputs": [
    {
     "data": {
      "text/plain": [
       "[('USC00519281', 2772),\n",
       " ('USC00519397', 2724),\n",
       " ('USC00513117', 2709),\n",
       " ('USC00519523', 2669),\n",
       " ('USC00516128', 2612),\n",
       " ('USC00514830', 2202),\n",
       " ('USC00511918', 1979),\n",
       " ('USC00517948', 1372),\n",
       " ('USC00518838', 511)]"
      ]
     },
     "execution_count": 13,
     "metadata": {},
     "output_type": "execute_result"
    }
   ],
   "source": [
    "# Design a query to find the most active stations (i.e. what stations have the most rows?)\n",
    "# List the stations and the counts in descending order.\n",
    "stations_active = session.query(Measurement.station, func.count(Measurement.station)).group_by(Measurement.station).order_by(func.count(Measurement.station).desc()).all()\n",
    "stations_active"
   ]
  },
  {
   "cell_type": "code",
   "execution_count": 14,
   "metadata": {},
   "outputs": [
    {
     "name": "stdout",
     "output_type": "stream",
     "text": [
      "[(12.2,)] [(29.4,)] [(22.03582251082252,)]\n"
     ]
    }
   ],
   "source": [
    "# Using the most active station id from the previous query, calculate the lowest, highest, and average temperature.\n",
    "high_temp = session.query(func.max(Measurement.tobs)).filter(Measurement.station == 'USC00519281').all()\n",
    "low_temp = session.query(func.min(Measurement.tobs)).filter(Measurement.station == 'USC00519281').all()\n",
    "avg_temp= session.query(func.avg(Measurement.tobs)).filter(Measurement.station == 'USC00519281').all()\n",
    "print(low_temp, high_temp, avg_temp)"
   ]
  },
  {
   "cell_type": "code",
   "execution_count": 22,
   "metadata": {},
   "outputs": [
    {
     "name": "stdout",
     "output_type": "stream",
     "text": [
      "<class 'list'>\n",
      "{\"tobs\":{\"2016-08-23\":25.0,\"2016-08-24\":25.0,\"2016-08-25\":26.7,\"2016-08-26\":26.7,\"2016-08-27\":23.9,\"2016-08-28\":22.8,\"2016-08-29\":25.6,\"2016-08-30\":25.0,\"2016-08-31\":25.6,\"2016-09-01\":26.7,\"2016-09-02\":26.7,\"2016-09-03\":25.6,\"2016-09-04\":25.6,\"2016-09-05\":25.6,\"2016-09-06\":22.8,\"2016-09-07\":23.3,\"2016-09-08\":26.7,\"2016-09-09\":26.1,\"2016-09-10\":25.0,\"2016-09-11\":26.7,\"2016-09-12\":24.4,\"2016-09-13\":26.1,\"2016-09-14\":23.9,\"2016-09-15\":26.1,\"2016-09-16\":25.6,\"2016-09-17\":26.1,\"2016-09-18\":25.6,\"2016-09-19\":25.6,\"2016-09-20\":24.4,\"2016-09-21\":23.3,\"2016-09-22\":25.0,\"2016-09-23\":25.6,\"2016-09-24\":26.1,\"2016-09-25\":26.1,\"2016-09-26\":25.0,\"2016-09-27\":26.7,\"2016-09-28\":25.6,\"2016-09-29\":25.6,\"2016-09-30\":25.6,\"2016-10-01\":25.0,\"2016-10-02\":26.1,\"2016-10-03\":26.1,\"2016-10-04\":26.1,\"2016-10-05\":26.1,\"2016-10-06\":23.9,\"2016-10-07\":24.4,\"2016-10-08\":22.8,\"2016-10-09\":22.2,\"2016-10-10\":21.7,\"2016-10-11\":25.0,\"2016-10-12\":26.1,\"2016-10-13\":25.6,\"2016-10-14\":26.1,\"2016-10-15\":25.0,\"2016-10-16\":26.1,\"2016-10-17\":25.0,\"2016-10-18\":25.6,\"2016-10-19\":25.6,\"2016-10-20\":25.6,\"2016-10-21\":25.6,\"2016-10-22\":25.0,\"2016-10-23\":23.3,\"2016-10-24\":23.9,\"2016-10-25\":24.4,\"2016-10-26\":22.8,\"2016-10-27\":24.4,\"2016-10-28\":23.3,\"2016-10-29\":25.0,\"2016-10-30\":24.4,\"2016-10-31\":24.4,\"2016-11-01\":23.3,\"2016-11-02\":23.9,\"2016-11-03\":23.9,\"2016-11-04\":23.9,\"2016-11-05\":23.9,\"2016-11-06\":21.7,\"2016-11-07\":17.2,\"2016-11-08\":21.1,\"2016-11-09\":20.0,\"2016-11-10\":19.4,\"2016-11-11\":25.0,\"2016-11-12\":23.3,\"2016-11-13\":25.0,\"2016-11-14\":24.4,\"2016-11-15\":24.4,\"2016-11-16\":23.9,\"2016-11-17\":24.4,\"2016-11-18\":23.9,\"2016-11-19\":22.8,\"2016-11-20\":23.9,\"2016-11-21\":22.8,\"2016-11-22\":23.9,\"2016-11-23\":23.3,\"2016-11-24\":23.9,\"2016-11-25\":23.3,\"2016-11-26\":23.9,\"2016-11-27\":22.8,\"2016-11-28\":23.9,\"2016-11-29\":22.8,\"2016-11-30\":22.8,\"2016-12-01\":23.3,\"2016-12-02\":21.1,\"2016-12-03\":22.2,\"2016-12-04\":21.1,\"2016-12-05\":19.4,\"2016-12-06\":19.4,\"2016-12-07\":20.6,\"2016-12-08\":21.1,\"2016-12-09\":20.0,\"2016-12-10\":20.6,\"2016-12-11\":20.6,\"2016-12-12\":18.9,\"2016-12-13\":18.3,\"2016-12-14\":20.0,\"2016-12-15\":16.7,\"2016-12-16\":23.9,\"2016-12-17\":21.1,\"2016-12-18\":20.6,\"2016-12-19\":24.4,\"2016-12-20\":24.4,\"2016-12-21\":23.3,\"2016-12-22\":22.8,\"2016-12-23\":21.7,\"2016-12-24\":23.3,\"2016-12-25\":23.3,\"2016-12-26\":22.2,\"2016-12-27\":21.7,\"2016-12-28\":22.2,\"2016-12-29\":23.3,\"2016-12-30\":20.6,\"2016-12-31\":19.4,\"2017-01-01\":22.2,\"2017-01-02\":21.1,\"2017-01-03\":17.8,\"2017-01-04\":17.2,\"2017-01-05\":17.2,\"2017-01-06\":16.7,\"2017-01-07\":21.1,\"2017-01-08\":21.1,\"2017-01-09\":16.7,\"2017-01-10\":16.7,\"2017-01-11\":17.2,\"2017-01-12\":18.3,\"2017-01-13\":20.6,\"2017-01-14\":25.0,\"2017-01-15\":21.1,\"2017-01-16\":23.3,\"2017-01-17\":20.6,\"2017-01-18\":22.2,\"2017-01-19\":21.7,\"2017-01-20\":20.6,\"2017-01-21\":21.7,\"2017-01-22\":21.7,\"2017-01-23\":22.2,\"2017-01-24\":22.2,\"2017-01-25\":20.6,\"2017-01-26\":21.1,\"2017-01-27\":18.9,\"2017-01-28\":18.3,\"2017-01-29\":20.6,\"2017-01-30\":20.0,\"2017-01-31\":20.0,\"2017-02-01\":20.0,\"2017-02-02\":15.0,\"2017-02-03\":15.6,\"2017-02-04\":21.1,\"2017-02-05\":22.8,\"2017-02-06\":23.9,\"2017-02-07\":17.8,\"2017-02-08\":15.0,\"2017-02-09\":15.0,\"2017-02-10\":16.7,\"2017-02-11\":20.0,\"2017-02-12\":21.1,\"2017-02-13\":22.8,\"2017-02-14\":26.1,\"2017-02-15\":23.9,\"2017-02-16\":18.3,\"2017-02-17\":21.1,\"2017-02-18\":23.3,\"2017-02-19\":21.1,\"2017-02-20\":21.1,\"2017-02-21\":21.7,\"2017-02-22\":21.7,\"2017-02-23\":21.7,\"2017-02-24\":20.6,\"2017-02-25\":16.1,\"2017-02-26\":19.4,\"2017-02-27\":18.3,\"2017-02-28\":22.2,\"2017-03-01\":21.7,\"2017-03-02\":22.8,\"2017-03-03\":22.2,\"2017-03-04\":25.0,\"2017-03-05\":22.8,\"2017-03-06\":19.4,\"2017-03-07\":16.7,\"2017-03-08\":17.8,\"2017-03-09\":19.4,\"2017-03-10\":18.9,\"2017-03-11\":27.2,\"2017-03-12\":20.6,\"2017-03-13\":18.9,\"2017-03-14\":19.4,\"2017-03-15\":20.6,\"2017-03-16\":18.9,\"2017-03-17\":20.0,\"2017-03-18\":18.3,\"2017-03-19\":23.3,\"2017-03-20\":20.6,\"2017-03-21\":22.2,\"2017-03-22\":22.8,\"2017-03-23\":22.2,\"2017-03-24\":21.7,\"2017-03-25\":24.4,\"2017-03-26\":25.0,\"2017-03-27\":24.4,\"2017-03-28\":23.3,\"2017-03-29\":20.0,\"2017-03-30\":22.8,\"2017-03-31\":21.7,\"2017-04-01\":23.3,\"2017-04-02\":23.9,\"2017-04-03\":21.1,\"2017-04-04\":19.4,\"2017-04-05\":21.7,\"2017-04-06\":19.4,\"2017-04-07\":23.3,\"2017-04-08\":25.0,\"2017-04-09\":25.6,\"2017-04-10\":19.4,\"2017-04-11\":21.1,\"2017-04-12\":20.6,\"2017-04-13\":20.6,\"2017-04-14\":23.3,\"2017-04-15\":25.6,\"2017-04-16\":21.7,\"2017-04-17\":19.4,\"2017-04-18\":20.0,\"2017-04-19\":19.4,\"2017-04-20\":24.4,\"2017-04-21\":20.6,\"2017-04-22\":22.2,\"2017-04-23\":24.4,\"2017-04-24\":20.0,\"2017-04-25\":22.2,\"2017-04-26\":23.3,\"2017-04-27\":21.1,\"2017-04-28\":19.4,\"2017-04-29\":22.2,\"2017-04-30\":15.6,\"2017-05-01\":18.3,\"2017-05-02\":23.9,\"2017-05-03\":21.1,\"2017-05-04\":23.9,\"2017-05-05\":21.1,\"2017-05-06\":26.1,\"2017-05-07\":23.9,\"2017-05-08\":21.1,\"2017-05-09\":19.4,\"2017-05-10\":23.3,\"2017-05-11\":21.1,\"2017-05-12\":23.9,\"2017-05-13\":24.4,\"2017-05-14\":25.0,\"2017-05-15\":23.3,\"2017-05-16\":23.3,\"2017-05-17\":23.3,\"2017-05-18\":20.6,\"2017-05-19\":20.0,\"2017-05-20\":24.4,\"2017-05-21\":23.3,\"2017-05-22\":21.7,\"2017-05-23\":21.7,\"2017-05-24\":23.3,\"2017-05-25\":23.3,\"2017-05-26\":23.3,\"2017-05-27\":23.3,\"2017-05-28\":26.7,\"2017-05-29\":23.3,\"2017-05-30\":22.2,\"2017-05-31\":23.9,\"2017-06-01\":26.7,\"2017-06-02\":24.4,\"2017-06-03\":24.4,\"2017-06-04\":25.0,\"2017-06-05\":23.9,\"2017-06-06\":23.9,\"2017-06-07\":23.9,\"2017-06-08\":23.9,\"2017-06-09\":22.2,\"2017-06-10\":23.3,\"2017-06-11\":23.3,\"2017-06-12\":23.3,\"2017-06-13\":24.4,\"2017-06-14\":23.3,\"2017-06-15\":23.9,\"2017-06-16\":22.8,\"2017-06-17\":26.1,\"2017-06-18\":23.9,\"2017-06-19\":22.2,\"2017-06-20\":22.2,\"2017-06-21\":23.3,\"2017-06-22\":22.2,\"2017-06-23\":22.2,\"2017-06-24\":25.0,\"2017-06-25\":21.7,\"2017-06-26\":22.8,\"2017-06-27\":24.4,\"2017-06-28\":25.0,\"2017-06-29\":24.4,\"2017-06-30\":24.4,\"2017-07-01\":26.1,\"2017-07-02\":27.2,\"2017-07-03\":24.4,\"2017-07-04\":25.6,\"2017-07-05\":25.0,\"2017-07-06\":23.3,\"2017-07-07\":23.9,\"2017-07-08\":25.6,\"2017-07-09\":25.6,\"2017-07-10\":20.6,\"2017-07-11\":22.2,\"2017-07-12\":23.3,\"2017-07-13\":23.3,\"2017-07-14\":24.4,\"2017-07-15\":26.7,\"2017-07-16\":26.7,\"2017-07-17\":24.4,\"2017-07-18\":24.4,\"2017-07-19\":24.4,\"2017-07-20\":25.0,\"2017-07-21\":25.0,\"2017-07-22\":25.0,\"2017-07-23\":27.8,\"2017-07-24\":23.9,\"2017-07-25\":25.0,\"2017-07-26\":23.9,\"2017-07-27\":24.4,\"2017-07-28\":27.2,\"2017-07-29\":27.8,\"2017-07-30\":27.2,\"2017-07-31\":24.4,\"2017-08-04\":25.0,\"2017-08-05\":27.8,\"2017-08-06\":28.3,\"2017-08-13\":25.0,\"2017-08-14\":25.0,\"2017-08-15\":25.0,\"2017-08-16\":24.4,\"2017-08-17\":24.4,\"2017-08-18\":26.1},\"station\":{\"2016-08-23\":\"USC00519281\",\"2016-08-24\":\"USC00519281\",\"2016-08-25\":\"USC00519281\",\"2016-08-26\":\"USC00519281\",\"2016-08-27\":\"USC00519281\",\"2016-08-28\":\"USC00519281\",\"2016-08-29\":\"USC00519281\",\"2016-08-30\":\"USC00519281\",\"2016-08-31\":\"USC00519281\",\"2016-09-01\":\"USC00519281\",\"2016-09-02\":\"USC00519281\",\"2016-09-03\":\"USC00519281\",\"2016-09-04\":\"USC00519281\",\"2016-09-05\":\"USC00519281\",\"2016-09-06\":\"USC00519281\",\"2016-09-07\":\"USC00519281\",\"2016-09-08\":\"USC00519281\",\"2016-09-09\":\"USC00519281\",\"2016-09-10\":\"USC00519281\",\"2016-09-11\":\"USC00519281\",\"2016-09-12\":\"USC00519281\",\"2016-09-13\":\"USC00519281\",\"2016-09-14\":\"USC00519281\",\"2016-09-15\":\"USC00519281\",\"2016-09-16\":\"USC00519281\",\"2016-09-17\":\"USC00519281\",\"2016-09-18\":\"USC00519281\",\"2016-09-19\":\"USC00519281\",\"2016-09-20\":\"USC00519281\",\"2016-09-21\":\"USC00519281\",\"2016-09-22\":\"USC00519281\",\"2016-09-23\":\"USC00519281\",\"2016-09-24\":\"USC00519281\",\"2016-09-25\":\"USC00519281\",\"2016-09-26\":\"USC00519281\",\"2016-09-27\":\"USC00519281\",\"2016-09-28\":\"USC00519281\",\"2016-09-29\":\"USC00519281\",\"2016-09-30\":\"USC00519281\",\"2016-10-01\":\"USC00519281\",\"2016-10-02\":\"USC00519281\",\"2016-10-03\":\"USC00519281\",\"2016-10-04\":\"USC00519281\",\"2016-10-05\":\"USC00519281\",\"2016-10-06\":\"USC00519281\",\"2016-10-07\":\"USC00519281\",\"2016-10-08\":\"USC00519281\",\"2016-10-09\":\"USC00519281\",\"2016-10-10\":\"USC00519281\",\"2016-10-11\":\"USC00519281\",\"2016-10-12\":\"USC00519281\",\"2016-10-13\":\"USC00519281\",\"2016-10-14\":\"USC00519281\",\"2016-10-15\":\"USC00519281\",\"2016-10-16\":\"USC00519281\",\"2016-10-17\":\"USC00519281\",\"2016-10-18\":\"USC00519281\",\"2016-10-19\":\"USC00519281\",\"2016-10-20\":\"USC00519281\",\"2016-10-21\":\"USC00519281\",\"2016-10-22\":\"USC00519281\",\"2016-10-23\":\"USC00519281\",\"2016-10-24\":\"USC00519281\",\"2016-10-25\":\"USC00519281\",\"2016-10-26\":\"USC00519281\",\"2016-10-27\":\"USC00519281\",\"2016-10-28\":\"USC00519281\",\"2016-10-29\":\"USC00519281\",\"2016-10-30\":\"USC00519281\",\"2016-10-31\":\"USC00519281\",\"2016-11-01\":\"USC00519281\",\"2016-11-02\":\"USC00519281\",\"2016-11-03\":\"USC00519281\",\"2016-11-04\":\"USC00519281\",\"2016-11-05\":\"USC00519281\",\"2016-11-06\":\"USC00519281\",\"2016-11-07\":\"USC00519281\",\"2016-11-08\":\"USC00519281\",\"2016-11-09\":\"USC00519281\",\"2016-11-10\":\"USC00519281\",\"2016-11-11\":\"USC00519281\",\"2016-11-12\":\"USC00519281\",\"2016-11-13\":\"USC00519281\",\"2016-11-14\":\"USC00519281\",\"2016-11-15\":\"USC00519281\",\"2016-11-16\":\"USC00519281\",\"2016-11-17\":\"USC00519281\",\"2016-11-18\":\"USC00519281\",\"2016-11-19\":\"USC00519281\",\"2016-11-20\":\"USC00519281\",\"2016-11-21\":\"USC00519281\",\"2016-11-22\":\"USC00519281\",\"2016-11-23\":\"USC00519281\",\"2016-11-24\":\"USC00519281\",\"2016-11-25\":\"USC00519281\",\"2016-11-26\":\"USC00519281\",\"2016-11-27\":\"USC00519281\",\"2016-11-28\":\"USC00519281\",\"2016-11-29\":\"USC00519281\",\"2016-11-30\":\"USC00519281\",\"2016-12-01\":\"USC00519281\",\"2016-12-02\":\"USC00519281\",\"2016-12-03\":\"USC00519281\",\"2016-12-04\":\"USC00519281\",\"2016-12-05\":\"USC00519281\",\"2016-12-06\":\"USC00519281\",\"2016-12-07\":\"USC00519281\",\"2016-12-08\":\"USC00519281\",\"2016-12-09\":\"USC00519281\",\"2016-12-10\":\"USC00519281\",\"2016-12-11\":\"USC00519281\",\"2016-12-12\":\"USC00519281\",\"2016-12-13\":\"USC00519281\",\"2016-12-14\":\"USC00519281\",\"2016-12-15\":\"USC00519281\",\"2016-12-16\":\"USC00519281\",\"2016-12-17\":\"USC00519281\",\"2016-12-18\":\"USC00519281\",\"2016-12-19\":\"USC00519281\",\"2016-12-20\":\"USC00519281\",\"2016-12-21\":\"USC00519281\",\"2016-12-22\":\"USC00519281\",\"2016-12-23\":\"USC00519281\",\"2016-12-24\":\"USC00519281\",\"2016-12-25\":\"USC00519281\",\"2016-12-26\":\"USC00519281\",\"2016-12-27\":\"USC00519281\",\"2016-12-28\":\"USC00519281\",\"2016-12-29\":\"USC00519281\",\"2016-12-30\":\"USC00519281\",\"2016-12-31\":\"USC00519281\",\"2017-01-01\":\"USC00519281\",\"2017-01-02\":\"USC00519281\",\"2017-01-03\":\"USC00519281\",\"2017-01-04\":\"USC00519281\",\"2017-01-05\":\"USC00519281\",\"2017-01-06\":\"USC00519281\",\"2017-01-07\":\"USC00519281\",\"2017-01-08\":\"USC00519281\",\"2017-01-09\":\"USC00519281\",\"2017-01-10\":\"USC00519281\",\"2017-01-11\":\"USC00519281\",\"2017-01-12\":\"USC00519281\",\"2017-01-13\":\"USC00519281\",\"2017-01-14\":\"USC00519281\",\"2017-01-15\":\"USC00519281\",\"2017-01-16\":\"USC00519281\",\"2017-01-17\":\"USC00519281\",\"2017-01-18\":\"USC00519281\",\"2017-01-19\":\"USC00519281\",\"2017-01-20\":\"USC00519281\",\"2017-01-21\":\"USC00519281\",\"2017-01-22\":\"USC00519281\",\"2017-01-23\":\"USC00519281\",\"2017-01-24\":\"USC00519281\",\"2017-01-25\":\"USC00519281\",\"2017-01-26\":\"USC00519281\",\"2017-01-27\":\"USC00519281\",\"2017-01-28\":\"USC00519281\",\"2017-01-29\":\"USC00519281\",\"2017-01-30\":\"USC00519281\",\"2017-01-31\":\"USC00519281\",\"2017-02-01\":\"USC00519281\",\"2017-02-02\":\"USC00519281\",\"2017-02-03\":\"USC00519281\",\"2017-02-04\":\"USC00519281\",\"2017-02-05\":\"USC00519281\",\"2017-02-06\":\"USC00519281\",\"2017-02-07\":\"USC00519281\",\"2017-02-08\":\"USC00519281\",\"2017-02-09\":\"USC00519281\",\"2017-02-10\":\"USC00519281\",\"2017-02-11\":\"USC00519281\",\"2017-02-12\":\"USC00519281\",\"2017-02-13\":\"USC00519281\",\"2017-02-14\":\"USC00519281\",\"2017-02-15\":\"USC00519281\",\"2017-02-16\":\"USC00519281\",\"2017-02-17\":\"USC00519281\",\"2017-02-18\":\"USC00519281\",\"2017-02-19\":\"USC00519281\",\"2017-02-20\":\"USC00519281\",\"2017-02-21\":\"USC00519281\",\"2017-02-22\":\"USC00519281\",\"2017-02-23\":\"USC00519281\",\"2017-02-24\":\"USC00519281\",\"2017-02-25\":\"USC00519281\",\"2017-02-26\":\"USC00519281\",\"2017-02-27\":\"USC00519281\",\"2017-02-28\":\"USC00519281\",\"2017-03-01\":\"USC00519281\",\"2017-03-02\":\"USC00519281\",\"2017-03-03\":\"USC00519281\",\"2017-03-04\":\"USC00519281\",\"2017-03-05\":\"USC00519281\",\"2017-03-06\":\"USC00519281\",\"2017-03-07\":\"USC00519281\",\"2017-03-08\":\"USC00519281\",\"2017-03-09\":\"USC00519281\",\"2017-03-10\":\"USC00519281\",\"2017-03-11\":\"USC00519281\",\"2017-03-12\":\"USC00519281\",\"2017-03-13\":\"USC00519281\",\"2017-03-14\":\"USC00519281\",\"2017-03-15\":\"USC00519281\",\"2017-03-16\":\"USC00519281\",\"2017-03-17\":\"USC00519281\",\"2017-03-18\":\"USC00519281\",\"2017-03-19\":\"USC00519281\",\"2017-03-20\":\"USC00519281\",\"2017-03-21\":\"USC00519281\",\"2017-03-22\":\"USC00519281\",\"2017-03-23\":\"USC00519281\",\"2017-03-24\":\"USC00519281\",\"2017-03-25\":\"USC00519281\",\"2017-03-26\":\"USC00519281\",\"2017-03-27\":\"USC00519281\",\"2017-03-28\":\"USC00519281\",\"2017-03-29\":\"USC00519281\",\"2017-03-30\":\"USC00519281\",\"2017-03-31\":\"USC00519281\",\"2017-04-01\":\"USC00519281\",\"2017-04-02\":\"USC00519281\",\"2017-04-03\":\"USC00519281\",\"2017-04-04\":\"USC00519281\",\"2017-04-05\":\"USC00519281\",\"2017-04-06\":\"USC00519281\",\"2017-04-07\":\"USC00519281\",\"2017-04-08\":\"USC00519281\",\"2017-04-09\":\"USC00519281\",\"2017-04-10\":\"USC00519281\",\"2017-04-11\":\"USC00519281\",\"2017-04-12\":\"USC00519281\",\"2017-04-13\":\"USC00519281\",\"2017-04-14\":\"USC00519281\",\"2017-04-15\":\"USC00519281\",\"2017-04-16\":\"USC00519281\",\"2017-04-17\":\"USC00519281\",\"2017-04-18\":\"USC00519281\",\"2017-04-19\":\"USC00519281\",\"2017-04-20\":\"USC00519281\",\"2017-04-21\":\"USC00519281\",\"2017-04-22\":\"USC00519281\",\"2017-04-23\":\"USC00519281\",\"2017-04-24\":\"USC00519281\",\"2017-04-25\":\"USC00519281\",\"2017-04-26\":\"USC00519281\",\"2017-04-27\":\"USC00519281\",\"2017-04-28\":\"USC00519281\",\"2017-04-29\":\"USC00519281\",\"2017-04-30\":\"USC00519281\",\"2017-05-01\":\"USC00519281\",\"2017-05-02\":\"USC00519281\",\"2017-05-03\":\"USC00519281\",\"2017-05-04\":\"USC00519281\",\"2017-05-05\":\"USC00519281\",\"2017-05-06\":\"USC00519281\",\"2017-05-07\":\"USC00519281\",\"2017-05-08\":\"USC00519281\",\"2017-05-09\":\"USC00519281\",\"2017-05-10\":\"USC00519281\",\"2017-05-11\":\"USC00519281\",\"2017-05-12\":\"USC00519281\",\"2017-05-13\":\"USC00519281\",\"2017-05-14\":\"USC00519281\",\"2017-05-15\":\"USC00519281\",\"2017-05-16\":\"USC00519281\",\"2017-05-17\":\"USC00519281\",\"2017-05-18\":\"USC00519281\",\"2017-05-19\":\"USC00519281\",\"2017-05-20\":\"USC00519281\",\"2017-05-21\":\"USC00519281\",\"2017-05-22\":\"USC00519281\",\"2017-05-23\":\"USC00519281\",\"2017-05-24\":\"USC00519281\",\"2017-05-25\":\"USC00519281\",\"2017-05-26\":\"USC00519281\",\"2017-05-27\":\"USC00519281\",\"2017-05-28\":\"USC00519281\",\"2017-05-29\":\"USC00519281\",\"2017-05-30\":\"USC00519281\",\"2017-05-31\":\"USC00519281\",\"2017-06-01\":\"USC00519281\",\"2017-06-02\":\"USC00519281\",\"2017-06-03\":\"USC00519281\",\"2017-06-04\":\"USC00519281\",\"2017-06-05\":\"USC00519281\",\"2017-06-06\":\"USC00519281\",\"2017-06-07\":\"USC00519281\",\"2017-06-08\":\"USC00519281\",\"2017-06-09\":\"USC00519281\",\"2017-06-10\":\"USC00519281\",\"2017-06-11\":\"USC00519281\",\"2017-06-12\":\"USC00519281\",\"2017-06-13\":\"USC00519281\",\"2017-06-14\":\"USC00519281\",\"2017-06-15\":\"USC00519281\",\"2017-06-16\":\"USC00519281\",\"2017-06-17\":\"USC00519281\",\"2017-06-18\":\"USC00519281\",\"2017-06-19\":\"USC00519281\",\"2017-06-20\":\"USC00519281\",\"2017-06-21\":\"USC00519281\",\"2017-06-22\":\"USC00519281\",\"2017-06-23\":\"USC00519281\",\"2017-06-24\":\"USC00519281\",\"2017-06-25\":\"USC00519281\",\"2017-06-26\":\"USC00519281\",\"2017-06-27\":\"USC00519281\",\"2017-06-28\":\"USC00519281\",\"2017-06-29\":\"USC00519281\",\"2017-06-30\":\"USC00519281\",\"2017-07-01\":\"USC00519281\",\"2017-07-02\":\"USC00519281\",\"2017-07-03\":\"USC00519281\",\"2017-07-04\":\"USC00519281\",\"2017-07-05\":\"USC00519281\",\"2017-07-06\":\"USC00519281\",\"2017-07-07\":\"USC00519281\",\"2017-07-08\":\"USC00519281\",\"2017-07-09\":\"USC00519281\",\"2017-07-10\":\"USC00519281\",\"2017-07-11\":\"USC00519281\",\"2017-07-12\":\"USC00519281\",\"2017-07-13\":\"USC00519281\",\"2017-07-14\":\"USC00519281\",\"2017-07-15\":\"USC00519281\",\"2017-07-16\":\"USC00519281\",\"2017-07-17\":\"USC00519281\",\"2017-07-18\":\"USC00519281\",\"2017-07-19\":\"USC00519281\",\"2017-07-20\":\"USC00519281\",\"2017-07-21\":\"USC00519281\",\"2017-07-22\":\"USC00519281\",\"2017-07-23\":\"USC00519281\",\"2017-07-24\":\"USC00519281\",\"2017-07-25\":\"USC00519281\",\"2017-07-26\":\"USC00519281\",\"2017-07-27\":\"USC00519281\",\"2017-07-28\":\"USC00519281\",\"2017-07-29\":\"USC00519281\",\"2017-07-30\":\"USC00519281\",\"2017-07-31\":\"USC00519281\",\"2017-08-04\":\"USC00519281\",\"2017-08-05\":\"USC00519281\",\"2017-08-06\":\"USC00519281\",\"2017-08-13\":\"USC00519281\",\"2017-08-14\":\"USC00519281\",\"2017-08-15\":\"USC00519281\",\"2017-08-16\":\"USC00519281\",\"2017-08-17\":\"USC00519281\",\"2017-08-18\":\"USC00519281\"}}\n"
     ]
    },
    {
     "data": {
      "text/html": [
       "<div>\n",
       "<style scoped>\n",
       "    .dataframe tbody tr th:only-of-type {\n",
       "        vertical-align: middle;\n",
       "    }\n",
       "\n",
       "    .dataframe tbody tr th {\n",
       "        vertical-align: top;\n",
       "    }\n",
       "\n",
       "    .dataframe thead th {\n",
       "        text-align: right;\n",
       "    }\n",
       "</style>\n",
       "<table border=\"1\" class=\"dataframe\">\n",
       "  <thead>\n",
       "    <tr style=\"text-align: right;\">\n",
       "      <th></th>\n",
       "      <th>tobs</th>\n",
       "      <th>station</th>\n",
       "    </tr>\n",
       "    <tr>\n",
       "      <th>date</th>\n",
       "      <th></th>\n",
       "      <th></th>\n",
       "    </tr>\n",
       "  </thead>\n",
       "  <tbody>\n",
       "    <tr>\n",
       "      <th>2016-08-23</th>\n",
       "      <td>25.0</td>\n",
       "      <td>USC00519281</td>\n",
       "    </tr>\n",
       "    <tr>\n",
       "      <th>2016-08-24</th>\n",
       "      <td>25.0</td>\n",
       "      <td>USC00519281</td>\n",
       "    </tr>\n",
       "    <tr>\n",
       "      <th>2016-08-25</th>\n",
       "      <td>26.7</td>\n",
       "      <td>USC00519281</td>\n",
       "    </tr>\n",
       "    <tr>\n",
       "      <th>2016-08-26</th>\n",
       "      <td>26.7</td>\n",
       "      <td>USC00519281</td>\n",
       "    </tr>\n",
       "    <tr>\n",
       "      <th>2016-08-27</th>\n",
       "      <td>23.9</td>\n",
       "      <td>USC00519281</td>\n",
       "    </tr>\n",
       "    <tr>\n",
       "      <th>...</th>\n",
       "      <td>...</td>\n",
       "      <td>...</td>\n",
       "    </tr>\n",
       "    <tr>\n",
       "      <th>2017-08-14</th>\n",
       "      <td>25.0</td>\n",
       "      <td>USC00519281</td>\n",
       "    </tr>\n",
       "    <tr>\n",
       "      <th>2017-08-15</th>\n",
       "      <td>25.0</td>\n",
       "      <td>USC00519281</td>\n",
       "    </tr>\n",
       "    <tr>\n",
       "      <th>2017-08-16</th>\n",
       "      <td>24.4</td>\n",
       "      <td>USC00519281</td>\n",
       "    </tr>\n",
       "    <tr>\n",
       "      <th>2017-08-17</th>\n",
       "      <td>24.4</td>\n",
       "      <td>USC00519281</td>\n",
       "    </tr>\n",
       "    <tr>\n",
       "      <th>2017-08-18</th>\n",
       "      <td>26.1</td>\n",
       "      <td>USC00519281</td>\n",
       "    </tr>\n",
       "  </tbody>\n",
       "</table>\n",
       "<p>352 rows × 2 columns</p>\n",
       "</div>"
      ],
      "text/plain": [
       "            tobs      station\n",
       "date                         \n",
       "2016-08-23  25.0  USC00519281\n",
       "2016-08-24  25.0  USC00519281\n",
       "2016-08-25  26.7  USC00519281\n",
       "2016-08-26  26.7  USC00519281\n",
       "2016-08-27  23.9  USC00519281\n",
       "...          ...          ...\n",
       "2017-08-14  25.0  USC00519281\n",
       "2017-08-15  25.0  USC00519281\n",
       "2017-08-16  24.4  USC00519281\n",
       "2017-08-17  24.4  USC00519281\n",
       "2017-08-18  26.1  USC00519281\n",
       "\n",
       "[352 rows x 2 columns]"
      ]
     },
     "execution_count": 22,
     "metadata": {},
     "output_type": "execute_result"
    }
   ],
   "source": [
    "from flask import Flask, jsonify\n",
    "# Using the most active station id\n",
    "# Query the last 12 months of temperature observation data for this station and plot the results as a histogram\n",
    "obsdata = [Measurement.date, Measurement.tobs, Measurement.station]\n",
    "\n",
    "\n",
    "obs_data = session.query(*obsdata).\\\n",
    "    filter(Measurement.station=='USC00519281').\\\n",
    "    filter(Measurement.date <= maxDate_format).\\\n",
    "    filter(Measurement.date >= last_year).all()\n",
    "\n",
    "print(type(obs_data))\n",
    "\n",
    "# Save the query results as a Pandas DataFrame and set the index to the date column\n",
    "\n",
    "tobs_df = pd.DataFrame(obs_data,  columns=['date','tobs','station'])\n",
    "tobs_df = tobs_df.set_index(['date'])\n",
    "# tobs = tobs_df['tobs']\n",
    "\n",
    "print(tobs_df.to_json())\n",
    "tobs_df\n",
    "# plt.hist(tobs, bins=12, label='tobs')\n",
    "# plt.legend()\n",
    "# plt.xlabel('Temperature')\n",
    "# plt.ylabel('Frequency')\n",
    "# plt.show()\n",
    "\n",
    "# tobs_df"
   ]
  },
  {
   "cell_type": "markdown",
   "metadata": {},
   "source": [
    "# Close session"
   ]
  },
  {
   "cell_type": "code",
   "execution_count": null,
   "metadata": {},
   "outputs": [],
   "source": [
    "# Close Session\n",
    "session.close()"
   ]
  }
 ],
 "metadata": {
  "anaconda-cloud": {},
  "kernel_info": {
   "name": "python3"
  },
  "kernelspec": {
   "display_name": "Python 3.9.12 64-bit",
   "language": "python",
   "name": "python3"
  },
  "language_info": {
   "codemirror_mode": {
    "name": "ipython",
    "version": 3
   },
   "file_extension": ".py",
   "mimetype": "text/x-python",
   "name": "python",
   "nbconvert_exporter": "python",
   "pygments_lexer": "ipython3",
   "version": "3.9.12"
  },
  "nteract": {
   "version": "0.12.3"
  },
  "varInspector": {
   "cols": {
    "lenName": 16,
    "lenType": 16,
    "lenVar": 40
   },
   "kernels_config": {
    "python": {
     "delete_cmd_postfix": "",
     "delete_cmd_prefix": "del ",
     "library": "var_list.py",
     "varRefreshCmd": "print(var_dic_list())"
    },
    "r": {
     "delete_cmd_postfix": ") ",
     "delete_cmd_prefix": "rm(",
     "library": "var_list.r",
     "varRefreshCmd": "cat(var_dic_list()) "
    }
   },
   "types_to_exclude": [
    "module",
    "function",
    "builtin_function_or_method",
    "instance",
    "_Feature"
   ],
   "window_display": false
  },
  "vscode": {
   "interpreter": {
    "hash": "ad2bdc8ecc057115af97d19610ffacc2b4e99fae6737bb82f5d7fb13d2f2c186"
   }
  }
 },
 "nbformat": 4,
 "nbformat_minor": 2
}
